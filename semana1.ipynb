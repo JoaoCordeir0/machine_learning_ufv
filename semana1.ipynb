{
 "cells": [
  {
   "cell_type": "markdown",
   "id": "beffd3ce",
   "metadata": {},
   "source": [
    "# Introdução ao Machine Learning"
   ]
  },
  {
   "cell_type": "code",
   "execution_count": null,
   "id": "84d84ca6",
   "metadata": {},
   "outputs": [],
   "source": [
    "import os # Os para manipular itens do sistema operacional\n",
    "import numpy as np # NumPy para manipular matrizes e vetores\n",
    "import pandas as pd # Pandas para manipular os dataframes\n",
    "\n",
    "# Plotar figuras\n",
    "import matplotlib as mpl \n",
    "import matplotlib.pyplot as plt\n",
    "import seaborn as sns\n",
    "\n",
    "print('Setup completo!')"
   ]
  },
  {
   "cell_type": "markdown",
   "id": "e0c7c6f7",
   "metadata": {},
   "source": [
    "### Etapas de construção de um modelo de ML:\n",
    "\n",
    "- Formulação do problema\n",
    "- Seleção e adaptação do banco de dados\n",
    "- Pré-processamento do banco de dados\n",
    "- Separação do banco de dados em dados de treinamento e validação\n",
    "- Ajuste do modelo com os dados de treinamento\n",
    "- Validação do modelo e estimativa de desempenho com os dados de validação\n",
    "- Implementação do modelo para aplicação"
   ]
  },
  {
   "cell_type": "markdown",
   "id": "7622a7bc",
   "metadata": {},
   "source": [
    "#### 1ª Formulação do problema\n",
    "\n",
    "Estimar o valor médio das casas em um distrito da Califórnia, dado um determinado conjunto de dados e características deste distrito.\n",
    "\n",
    "Fonte: https://www.kaggle.com/camnugent/california-housing-prices\n",
    "\n",
    "Variáveis do banco de dados:\n",
    "\n",
    "- longitude: Longitude\n",
    "- latitude - Latitude\n",
    "- housing_median_age - Idade média das construções no quarteirão\n",
    "- total_rooms - Número de cômodos no quarteirão\n",
    "- total_bedrooms - Número de quartos no quarteirão\n",
    "- population - Número de pessoas que vivem no quarteirão\n",
    "- households - Número de famílias vivendo no mesmo quarteirão\n",
    "- median_income - Renda média mensal do quarteirão em que a casa está situada (medida em dezenas de milhares de dólares)\n",
    "- median_house_value (target) - Valor médio das casas do quarteirão em que a casa está situada (em dólares)\n",
    "- ocean_proximity - Proximidade da casa do oceano/mar"
   ]
  },
  {
   "cell_type": "markdown",
   "id": "848d98a8",
   "metadata": {},
   "source": [
    "#### 2ª Seleção e adaptação do banco de dados"
   ]
  },
  {
   "cell_type": "code",
   "execution_count": null,
   "id": "661fbe79",
   "metadata": {},
   "outputs": [],
   "source": [
    "# baixar o dataset do GitHub\n",
    "!wget https://github.com/nias-ufv/elt574-aprendizado-de-maquina/raw/main/semana-1/housing.csv"
   ]
  },
  {
   "cell_type": "code",
   "execution_count": null,
   "id": "16053ba4",
   "metadata": {},
   "outputs": [],
   "source": [
    "df_housing = pd.read_csv('./housing.csv')\n",
    "df_housing.head() # 5 primeiras linhas"
   ]
  },
  {
   "cell_type": "code",
   "execution_count": null,
   "id": "1a688f74",
   "metadata": {},
   "outputs": [],
   "source": [
    "df_housing.info() # Tipo das varíaveis"
   ]
  },
  {
   "cell_type": "code",
   "execution_count": null,
   "id": "1320a3db",
   "metadata": {},
   "outputs": [],
   "source": [
    "df_housing['ocean_proximity'].value_counts() # Agrupa pelo ocean_proximity"
   ]
  },
  {
   "cell_type": "code",
   "execution_count": null,
   "id": "fb35827a",
   "metadata": {},
   "outputs": [],
   "source": [
    "df_housing.loc[lambda i: i['ocean_proximity'] == 'ISLAND'] # Filtra por ilhas"
   ]
  },
  {
   "cell_type": "code",
   "execution_count": null,
   "id": "d89ef986",
   "metadata": {},
   "outputs": [],
   "source": [
    "df_housing.describe() # Medidas, tendência e dispersão"
   ]
  },
  {
   "cell_type": "code",
   "execution_count": null,
   "id": "3edabca8",
   "metadata": {},
   "outputs": [],
   "source": [
    "df_housing.hist(bins=50, figsize=(20, 15))\n",
    "plt.show() # Plota os dados de cada coluna"
   ]
  },
  {
   "cell_type": "code",
   "execution_count": null,
   "id": "777f0bfa",
   "metadata": {},
   "outputs": [],
   "source": [
    "sns.histplot(data=df_housing, x='median_house_value', kde=True) # Suavização da coluna median_house_value usando sns"
   ]
  }
 ],
 "metadata": {
  "kernelspec": {
   "display_name": "venv",
   "language": "python",
   "name": "python3"
  },
  "language_info": {
   "codemirror_mode": {
    "name": "ipython",
    "version": 3
   },
   "file_extension": ".py",
   "mimetype": "text/x-python",
   "name": "python",
   "nbconvert_exporter": "python",
   "pygments_lexer": "ipython3",
   "version": "3.12.3"
  }
 },
 "nbformat": 4,
 "nbformat_minor": 5
}
