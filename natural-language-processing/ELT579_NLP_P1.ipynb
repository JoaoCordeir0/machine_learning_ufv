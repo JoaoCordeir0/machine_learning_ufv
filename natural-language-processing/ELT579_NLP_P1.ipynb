{
  "cells": [
    {
      "cell_type": "markdown",
      "metadata": {
        "id": "q8iMLK81jdQK"
      },
      "source": [
        "<center>Universidade Federal de Viçosa</center>\n",
        "<center>Coordenadoria de Educação Aberta e a Distância</center>\n",
        "<center>Inteligência Artificial e Computacional</center>\n",
        "<center>ELT579 - Topicos Especiais em Inteligencia Artificial</center>\n",
        "\n",
        "**<center>AULA PRÁTICA 1: Comandos Básicos para Pre-processamento de Texto</center>**\n",
        "\n",
        "_<center>Processamento de Linguagem Natural</center>_"
      ]
    },
    {
      "cell_type": "markdown",
      "metadata": {
        "id": "JvAMSvTlMkgy"
      },
      "source": [
        "**1. Introdução ao Pré-processamento de Texto**\n",
        "\n",
        "O pré-processamento de texto é uma etapa fundamental no processamento de linguagem natural (NLP), pois transforma textos brutos em um formato adequado para análise e modelagem. Como os dados textuais costumam ser desorganizados e conter ruídos (ex.: pontuação, caracteres especiais), o pré-processamento ajuda a limpar e estruturar essas informações, o que melhora o desempenho dos algoritmos de NLP.\n",
        "\n",
        "As etapas mais comuns incluem:\n",
        "\n",
        "1.   **Tokenização**: Dividir o texto em unidades menores (palavras ou frases).\n",
        "2.   **Remoção de Stopwords**: Eliminar palavras de pouca relevância (ex.: \"o\", \"de\").\n",
        "3.   **Stemming**: Reduzir palavras à sua forma base, retirando sufixos (ex.: \"jogando\" para \"jog\").\n",
        "4.   **Lematização**: Reduzir palavras à sua forma canônica ou raiz (ex.: \"jogando\" para \"jogar\").\n",
        "\n",
        "Essas etapas ajudam a reduzir a dimensionalidade dos dados e a melhorar a representatividade do texto nos modelos."
      ]
    },
    {
      "cell_type": "markdown",
      "metadata": {
        "id": "4mfZj_V1QXj6"
      },
      "source": [
        "**2. Instalação e Importação das Bibliotecas Necessárias**"
      ]
    },
    {
      "cell_type": "code",
      "execution_count": null,
      "metadata": {
        "id": "SjFhTBwSQbEG"
      },
      "outputs": [],
      "source": [
        "#!pip install nltk"
      ]
    },
    {
      "cell_type": "markdown",
      "metadata": {
        "id": "tU61cH6ASFLr"
      },
      "source": [
        "**3. Criar conjunto de dados**\n",
        "*   **Importação da biblioteca Pandas:** O Pandas é importado com o apelido pd, que é a convenção comum. Ele será usado para criar e manipular dataframes, que são estruturas de dados tabulares, similares a tabelas de banco de dados ou planilhas de Excel.\n",
        "*   **Criação de um conjunto de dados:** O conjunto de dados é um dicionário chamado `data`.\n",
        "\n",
        "1.   `Message`: Contém uma lista de mensagens de texto, que são frases sobre aprendizado de máquina e processamento de linguagem natural.\n",
        "2.   `Label`: Contém uma lista de números (1 e 0). Cada número corresponde a uma classificação de sentimento fictícia (ex.: 1 pode representar uma mensagem positiva, e 0, uma negativa).\n",
        "\n",
        "*   **Criação de um DataFrame com Pandas:** A função `pd.DataFrame()` transforma o dicionário data em um DataFrame do Pandas. Um DataFrame é uma tabela onde as colunas são as chaves do dicionário ('Message' e 'Label') e as linhas são os dados.\n",
        "*   **Exibição do DataFrame:** A função `display()` mostra o conteúdo do DataFrame de forma mais organizada e legível (comum em ambientes como Jupyter Notebooks ou Google Colab)."
      ]
    },
    {
      "cell_type": "code",
      "execution_count": 1,
      "metadata": {
        "colab": {
          "base_uri": "https://localhost:8080/",
          "height": 206
        },
        "id": "FK-NCMeDHDwO",
        "outputId": "6e510a6b-02b7-4fe2-eb24-833d6102eb9d"
      },
      "outputs": [
        {
          "data": {
            "text/html": [
              "<div>\n",
              "<style scoped>\n",
              "    .dataframe tbody tr th:only-of-type {\n",
              "        vertical-align: middle;\n",
              "    }\n",
              "\n",
              "    .dataframe tbody tr th {\n",
              "        vertical-align: top;\n",
              "    }\n",
              "\n",
              "    .dataframe thead th {\n",
              "        text-align: right;\n",
              "    }\n",
              "</style>\n",
              "<table border=\"1\" class=\"dataframe\">\n",
              "  <thead>\n",
              "    <tr style=\"text-align: right;\">\n",
              "      <th></th>\n",
              "      <th>Message</th>\n",
              "      <th>Label</th>\n",
              "    </tr>\n",
              "  </thead>\n",
              "  <tbody>\n",
              "    <tr>\n",
              "      <th>0</th>\n",
              "      <td>I love machine learning!</td>\n",
              "      <td>1</td>\n",
              "    </tr>\n",
              "    <tr>\n",
              "      <th>1</th>\n",
              "      <td>Deep learning is amazing.</td>\n",
              "      <td>1</td>\n",
              "    </tr>\n",
              "    <tr>\n",
              "      <th>2</th>\n",
              "      <td>Natural Language Processing is a subset of AI.</td>\n",
              "      <td>0</td>\n",
              "    </tr>\n",
              "    <tr>\n",
              "      <th>3</th>\n",
              "      <td>How to build a neural network?</td>\n",
              "      <td>0</td>\n",
              "    </tr>\n",
              "    <tr>\n",
              "      <th>4</th>\n",
              "      <td>Machine learning models are powerful.</td>\n",
              "      <td>1</td>\n",
              "    </tr>\n",
              "  </tbody>\n",
              "</table>\n",
              "</div>"
            ],
            "text/plain": [
              "                                          Message  Label\n",
              "0                        I love machine learning!      1\n",
              "1                       Deep learning is amazing.      1\n",
              "2  Natural Language Processing is a subset of AI.      0\n",
              "3                  How to build a neural network?      0\n",
              "4           Machine learning models are powerful.      1"
            ]
          },
          "metadata": {},
          "output_type": "display_data"
        }
      ],
      "source": [
        "import pandas as pd\n",
        "\n",
        "# Exemplo de conjunto de dados\n",
        "data = {\n",
        "    'Message': [\n",
        "        'I love machine learning!',\n",
        "        'Deep learning is amazing.',\n",
        "        'Natural Language Processing is a subset of AI.',\n",
        "        'How to build a neural network?',\n",
        "        'Machine learning models are powerful.'\n",
        "    ],\n",
        "    'Label': [1, 1, 0, 0, 1]  # 1 para positivo, 0 para negativo (exemplo fictício)\n",
        "}\n",
        "\n",
        "df = pd.DataFrame(data)\n",
        "display(df)"
      ]
    },
    {
      "cell_type": "markdown",
      "metadata": {
        "id": "zvOq5ErhVvxi"
      },
      "source": [
        "**4. Adicionar ruído a um texto**\n",
        "\n",
        "Através da inclusão de palavras aleatórias e pela introdução de erros de digitação. Isso pode ser útil para simular dados ruidosos em tarefas de processamento de linguagem natural (NLP), testando a robustez de algoritmos\n",
        "\n",
        "*   **Importação de bibliotecas:**\n",
        "  \n",
        "  `Numpy`: Importado como np, é usado para gerar números aleatórios. A função `np.random.randint` é utilizada para escolher índices aleatórios em listas.\n",
        "  `Random`: A biblioteca random fornece a função `random.choice`, que permite selecionar elementos aleatórios de uma lista ou caracteres de uma string.\n",
        "\n",
        "*   **Função add_noise:** A função `add_noise` adiciona ruído a um texto. Ela divide o texto em palavras e altera algumas de duas maneiras: substituindo por palavras aleatórias e criando erros de digitação.\n",
        "\n",
        "*   **Processo de adicionar ruído:** O texto é dividido em palavras usando `split()`, criando uma lista chamada `words`. O número de palavras a serem afetadas pelo ruído é calculado multiplicando o total de palavras pelo nível de ruído definido.\n",
        "\n",
        "*   **Adição de palavras aleatórias:** Uma lista de palavras de ruído é usada para substituir algumas palavras originais. Para cada palavra a ser modificada, um índice aleatório da lista de palavras é escolhido, e a palavra é substituída por uma das palavras de ruído aleatórias.\n",
        "\n",
        "*   **Adição de erros de digitação:** Além das palavras aleatórias, a função também introduz erros de digitação em algumas palavras, substituindo um caractere aleatório por outro. Isso simula erros comuns de digitação, como letras incorretas ou trocadas."
      ]
    },
    {
      "cell_type": "code",
      "execution_count": 2,
      "metadata": {
        "colab": {
          "base_uri": "https://localhost:8080/",
          "height": 241
        },
        "id": "Oop3pkFxG8Ri",
        "outputId": "2a8c8326-cc2d-4c57-a1f0-ffb863886e1a"
      },
      "outputs": [
        {
          "name": "stdout",
          "output_type": "stream",
          "text": [
            "\n",
            "DataFrame com Ruído Adicionado:\n"
          ]
        },
        {
          "data": {
            "text/html": [
              "<div>\n",
              "<style scoped>\n",
              "    .dataframe tbody tr th:only-of-type {\n",
              "        vertical-align: middle;\n",
              "    }\n",
              "\n",
              "    .dataframe tbody tr th {\n",
              "        vertical-align: top;\n",
              "    }\n",
              "\n",
              "    .dataframe thead th {\n",
              "        text-align: right;\n",
              "    }\n",
              "</style>\n",
              "<table border=\"1\" class=\"dataframe\">\n",
              "  <thead>\n",
              "    <tr style=\"text-align: right;\">\n",
              "      <th></th>\n",
              "      <th>Noisy_Message</th>\n",
              "    </tr>\n",
              "  </thead>\n",
              "  <tbody>\n",
              "    <tr>\n",
              "      <th>0</th>\n",
              "      <td>I love machine learning!</td>\n",
              "    </tr>\n",
              "    <tr>\n",
              "      <th>1</th>\n",
              "      <td>Deep learning is amazing.</td>\n",
              "    </tr>\n",
              "    <tr>\n",
              "      <th>2</th>\n",
              "      <td>yoise Language Processing is a subset of AI.</td>\n",
              "    </tr>\n",
              "    <tr>\n",
              "      <th>3</th>\n",
              "      <td>How to build abc neural netwomk?</td>\n",
              "    </tr>\n",
              "    <tr>\n",
              "      <th>4</th>\n",
              "      <td>Machine noise momels are powerful.</td>\n",
              "    </tr>\n",
              "  </tbody>\n",
              "</table>\n",
              "</div>"
            ],
            "text/plain": [
              "                                  Noisy_Message\n",
              "0                      I love machine learning!\n",
              "1                     Deep learning is amazing.\n",
              "2  yoise Language Processing is a subset of AI.\n",
              "3              How to build abc neural netwomk?\n",
              "4            Machine noise momels are powerful."
            ]
          },
          "metadata": {},
          "output_type": "display_data"
        }
      ],
      "source": [
        "import numpy as np\n",
        "import random\n",
        "\n",
        "# Função para adicionar ruído ao texto\n",
        "#Parametros:\n",
        "#text: O texto original que receberá o ruído.\n",
        "#noise_level: A porcentagem de palavras que será modificada, com o valor padrão de 10% (0.1).\n",
        "def add_noise(text, noise_level=0.1):\n",
        "    words = text.split()\n",
        "    num_noisy_words = int(len(words) * noise_level)\n",
        "\n",
        "    # Adicionando palavras aleatórias como ruído\n",
        "    noisy_words = ['abc', 'xyz', '123', 'noise']\n",
        "    for _ in range(num_noisy_words):\n",
        "        idx = np.random.randint(len(words))\n",
        "        words[idx] = random.choice(noisy_words)  # Alteração para usar random.choice\n",
        "\n",
        "    # Adicionando erros de digitação\n",
        "    for _ in range(num_noisy_words):\n",
        "        idx = np.random.randint(len(words))\n",
        "        if len(words[idx]) > 2:\n",
        "            pos = np.random.randint(len(words[idx]))\n",
        "            # Substituindo caractere por um caractere aleatório\n",
        "            words[idx] = words[idx][:pos] + random.choice('abcdefghijklmnopqrstuvwxyz') + words[idx][pos+1:]\n",
        "\n",
        "    return ' '.join(words)\n",
        "\n",
        "# Adicionando ruído ao conjunto de dados\n",
        "df['Noisy_Message'] = df['Message'].apply(lambda x: add_noise(x, noise_level=0.20)) #pode alterar o noise_level\n",
        "\n",
        "# Exibindo o DataFrame com ruído adicionado\n",
        "print(\"\\nDataFrame com Ruído Adicionado:\")\n",
        "display(df[['Noisy_Message']])"
      ]
    },
    {
      "cell_type": "markdown",
      "metadata": {
        "id": "uK0v_yXUZvnN"
      },
      "source": [
        "**5. Etapas de Pré-processamento**\n",
        "\n",
        "*   **Importação de Bibliotecas**:\n",
        "\n",
        "  `re`: Biblioteca para operações de expressões regulares, usada para limpar o texto.\n",
        "\n",
        "  `pandas`: Biblioteca para manipulação de dados em forma de tabelas (DataFrames).\n",
        "\n",
        "  `nltk`: Biblioteca para processamento de linguagem natural (NLP).\n",
        "\n",
        "  `stopwords, wordnet`: Componentes do NLTK para remoção de stopwords e lematização.\n",
        "  \n",
        "  `PorterStemmer, WordNetLemmatizer`: Ferramentas do NLTK para stemming e lematização, respectivamente.\n",
        "\n",
        "*   **Baixando Recursos Adicionais do NLTK**:\n",
        "\n",
        "  `nltk.download('stopwords')`: Baixa a lista de stopwords.\n",
        "  \n",
        "  `nltk.download('punkt')`: Baixa recursos para tokenização.\n",
        "\n",
        "  `nltk.download('averaged_perceptron_tagger')`: Baixa o tagger POS (Part-of-Speech) para identificação de partes do discurso.\n",
        "\n",
        "  `nltk.download('wordnet')`: Baixa o dicionário WordNet para lematização.\n",
        "\n",
        "\n",
        "*   **Inicializando o Stemmer e o Lemmatizer**:\n",
        "\n",
        "  stemmer = `PorterStemmer()`: Cria uma instância do stemmer de Porter para reduzir palavras às suas raízes.\n",
        "\n",
        "  lemmatizer = `WordNetLemmatizer()`: Cria uma instância do lemmatizer baseado no WordNet para reduzir palavras às suas formas base.\n",
        "\n",
        "*   **Função `preprocess_text`**: Convertendo para Minúsculas, Removendo URLs, Removendo Caracteres Não-Alfanuméricos, Removendo Números, Tokenização, Remoção de Stopwords, Stemming, Juntando Tokens.\n",
        "\n",
        "*   **Função `get_wordnet_pos`**: Conversão de Tags POS: Converte tags de partes do discurso (POS) para o formato do WordNet (ADJ, NOUN, VERB, ADV). Usa a tagger POS do NLTK para identificar a parte do discurso de uma palavra.\n",
        "\n",
        "*   **Função `lemmatize_with_pos`**: Lematização com Tags POS: Lematiza tokens usando o lemmatizer do WordNet e adiciona as tags POS para cada token. Retorna uma lista de tuplas contendo o token original, o lema e a tag POS.\n",
        "\n",
        "*   **Aplicação do Pré-processamento ao DataFrame**:\n",
        "\n",
        "  `df['Processed_Message'] = df['Noisy_Message'].apply(preprocess_text)`: Aplica a função de pré-processamento aos textos na coluna 'Noisy_Message' e armazena o resultado na coluna `Processed_Message`.\n",
        "\n",
        "*   **Aplicação da Lematização com Tags POS ao DataFrame**:\n",
        "\n",
        "  `df['lemmatized_with_pos'] = df['Noisy_Message'].apply(lambda text: lemmatize_with_pos(text.split())):` Aplica a lematização com tags POS aos textos na coluna 'Noisy_Message' e armazena o resultado na coluna `lemmatized_with_pos`."
      ]
    },
    {
      "cell_type": "code",
      "execution_count": 4,
      "metadata": {
        "colab": {
          "base_uri": "https://localhost:8080/",
          "height": 861
        },
        "id": "DO-Vq3wgZd7n",
        "outputId": "1686fd07-8576-40ff-c75e-d1a6166ee426"
      },
      "outputs": [
        {
          "name": "stderr",
          "output_type": "stream",
          "text": [
            "[nltk_data] Downloading package stopwords to\n",
            "[nltk_data]     /home/cordeiro/nltk_data...\n",
            "[nltk_data]   Package stopwords is already up-to-date!\n",
            "[nltk_data] Downloading package punkt to /home/cordeiro/nltk_data...\n",
            "[nltk_data]   Package punkt is already up-to-date!\n",
            "[nltk_data] Downloading package averaged_perceptron_tagger_eng to\n",
            "[nltk_data]     /home/cordeiro/nltk_data...\n",
            "[nltk_data]   Unzipping taggers/averaged_perceptron_tagger_eng.zip.\n",
            "[nltk_data] Downloading package averaged_perceptron_tagger to\n",
            "[nltk_data]     /home/cordeiro/nltk_data...\n",
            "[nltk_data]   Package averaged_perceptron_tagger is already up-to-\n",
            "[nltk_data]       date!\n",
            "[nltk_data] Downloading package wordnet to /home/cordeiro/nltk_data...\n",
            "[nltk_data]   Package wordnet is already up-to-date!\n"
          ]
        },
        {
          "data": {
            "text/html": [
              "<div>\n",
              "<style scoped>\n",
              "    .dataframe tbody tr th:only-of-type {\n",
              "        vertical-align: middle;\n",
              "    }\n",
              "\n",
              "    .dataframe tbody tr th {\n",
              "        vertical-align: top;\n",
              "    }\n",
              "\n",
              "    .dataframe thead th {\n",
              "        text-align: right;\n",
              "    }\n",
              "</style>\n",
              "<table border=\"1\" class=\"dataframe\">\n",
              "  <thead>\n",
              "    <tr style=\"text-align: right;\">\n",
              "      <th></th>\n",
              "      <th>Processed_Message</th>\n",
              "    </tr>\n",
              "  </thead>\n",
              "  <tbody>\n",
              "    <tr>\n",
              "      <th>0</th>\n",
              "      <td>love machin learn</td>\n",
              "    </tr>\n",
              "    <tr>\n",
              "      <th>1</th>\n",
              "      <td>deep learn amaz</td>\n",
              "    </tr>\n",
              "    <tr>\n",
              "      <th>2</th>\n",
              "      <td>yois languag process subset ai</td>\n",
              "    </tr>\n",
              "    <tr>\n",
              "      <th>3</th>\n",
              "      <td>build abc neural netwomk</td>\n",
              "    </tr>\n",
              "    <tr>\n",
              "      <th>4</th>\n",
              "      <td>machin nois momel power</td>\n",
              "    </tr>\n",
              "  </tbody>\n",
              "</table>\n",
              "</div>"
            ],
            "text/plain": [
              "                Processed_Message\n",
              "0               love machin learn\n",
              "1                 deep learn amaz\n",
              "2  yois languag process subset ai\n",
              "3        build abc neural netwomk\n",
              "4         machin nois momel power"
            ]
          },
          "metadata": {},
          "output_type": "display_data"
        },
        {
          "name": "stdout",
          "output_type": "stream",
          "text": [
            "                                 lemmatized_with_pos\n",
            "0  [(I, I, PRP), (love, love, NN), (machine, mach...\n",
            "1  [(Deep, Deep, JJ), (learning, learn, VBG), (is...\n",
            "2  [(yoise, yoise, NN), (Language, Language, NN),...\n",
            "3  [(How, How, WRB), (to, to, TO), (build, build,...\n",
            "4  [(Machine, Machine, NN), (noise, noise, NN), (...\n"
          ]
        }
      ],
      "source": [
        "import re\n",
        "import pandas as pd\n",
        "import nltk\n",
        "from nltk.corpus import stopwords, wordnet\n",
        "from nltk.stem import PorterStemmer, WordNetLemmatizer\n",
        "\n",
        "# Baixando recursos adicionais do nltk\n",
        "nltk.download('stopwords')\n",
        "nltk.download('punkt')\n",
        "nltk.download('averaged_perceptron_tagger_eng')\n",
        "nltk.download('averaged_perceptron_tagger')\n",
        "nltk.download('wordnet')\n",
        "\n",
        "# Inicializando o stemmer e o lemmatizer\n",
        "stemmer = PorterStemmer()\n",
        "lemmatizer = WordNetLemmatizer()\n",
        "\n",
        "# Função para pré-processar o texto\n",
        "def preprocess_text(text):\n",
        "    # Convertendo para minúsculas\n",
        "    text = text.lower()\n",
        "\n",
        "    # Removendo URLs\n",
        "    text = re.sub(r'http\\S+|www\\S+|https\\S+', '', text, flags=re.MULTILINE)\n",
        "\n",
        "    # Removendo caracteres não-alfanuméricos\n",
        "    text = re.sub(r'\\W', ' ', text)\n",
        "\n",
        "    # Removendo números\n",
        "    text = re.sub(r'\\d', '', text)\n",
        "\n",
        "    # Tokenização\n",
        "    tokens = text.split()\n",
        "\n",
        "    # Remoção de stopwords\n",
        "    stop_words = set(stopwords.words('english'))\n",
        "    tokens = [word for word in tokens if word not in stop_words]\n",
        "\n",
        "    # Stemming\n",
        "    tokens = [stemmer.stem(word) for word in tokens]\n",
        "\n",
        "    # Juntando tokens de volta em uma string\n",
        "    text = ' '.join(tokens)\n",
        "\n",
        "    return text\n",
        "\n",
        "# Função para lematizar tokens com tags POS\n",
        "def get_wordnet_pos(word):\n",
        "    tag = nltk.pos_tag([word])[0][1][0].upper()\n",
        "    tag_dict = {\"J\": wordnet.ADJ,\n",
        "                \"N\": wordnet.NOUN,\n",
        "                \"V\": wordnet.VERB,\n",
        "                \"R\": wordnet.ADV}\n",
        "    return tag_dict.get(tag, wordnet.NOUN)\n",
        "\n",
        "def lemmatize_with_pos(tokens):\n",
        "    # Lematiza tokens com tags POS\n",
        "    lemmas_with_pos = [(token, lemmatizer.lemmatize(token, get_wordnet_pos(token)), nltk.pos_tag([token])[0][1]) for token in tokens]\n",
        "    return lemmas_with_pos\n",
        "\n",
        "# Aplicando o pré-processamento ao DataFrame\n",
        "df['Processed_Message'] = df['Noisy_Message'].apply(preprocess_text)\n",
        "\n",
        "# Aplicando a lematização com tags POS ao DataFrame\n",
        "df['lemmatized_with_pos'] = df['Noisy_Message'].apply(lambda text: lemmatize_with_pos(text.split()))\n",
        "\n",
        "# Exibindo os resultados\n",
        "#display(df[['Message']])\n",
        "#display(df[['Noisy_Message']])\n",
        "display(df[['Processed_Message']]) #Exibe a coluna com os textos processados.\n",
        "print(df[['lemmatized_with_pos']]) #Imprime a coluna com as palavras originais, os lemas e suas tags POS.\n",
        "\n",
        "#######TEM ALGO ERRADO?##########"
      ]
    },
    {
      "cell_type": "markdown",
      "metadata": {
        "id": "LSbg0ii1nOFP"
      },
      "source": [
        "**6. Vetorização de texto**\n",
        "\n",
        "Vetorização é o processo de transformar texto em uma representação numérica que pode ser utilizada por algoritmos de aprendizado de máquina.\n",
        "\n",
        "Utilizando o `CountVectorizer` da biblioteca *scikit-learn*."
      ]
    },
    {
      "cell_type": "code",
      "execution_count": 7,
      "metadata": {
        "colab": {
          "base_uri": "https://localhost:8080/"
        },
        "id": "Dp7-FZGHMU9P",
        "outputId": "0fdfd1fc-9e1f-468c-fdd3-3142a7482301"
      },
      "outputs": [
        {
          "name": "stdout",
          "output_type": "stream",
          "text": [
            "\n",
            "Matriz de Características (X):\n",
            "[[0 0 0 0 0 0 1 1 1 0 0 0 0 0 0 0 0]\n",
            " [0 0 1 0 1 0 1 0 0 0 0 0 0 0 0 0 0]\n",
            " [0 1 0 0 0 1 0 0 0 0 0 0 0 0 1 1 1]\n",
            " [1 0 0 1 0 0 0 0 0 0 1 1 0 0 0 0 0]\n",
            " [0 0 0 0 0 0 0 0 1 1 0 0 1 1 0 0 0]]\n",
            "\n",
            "Nomes das Características:\n",
            "['abc' 'ai' 'amaz' 'build' 'deep' 'languag' 'learn' 'love' 'machin'\n",
            " 'momel' 'netwomk' 'neural' 'nois' 'power' 'process' 'subset' 'yois']\n"
          ]
        }
      ],
      "source": [
        "from sklearn.feature_extraction.text import CountVectorizer\n",
        "\n",
        "# Vetorização do texto\n",
        "vectorizer = CountVectorizer()\n",
        "X = vectorizer.fit_transform(df['Processed_Message'])\n",
        "y = df['Label']\n",
        "\n",
        "# Exibindo a matriz de características X\n",
        "print(\"\\nMatriz de Características (X):\")\n",
        "print(X.toarray())\n",
        "\n",
        "# Exibindo os nomes das características\n",
        "print(\"\\nNomes das Características:\")\n",
        "print(vectorizer.get_feature_names_out())\n"
      ]
    },
    {
      "cell_type": "markdown",
      "metadata": {
        "id": "9JZOwBHUpnl8"
      },
      "source": [
        "**7. Classificação de texto**\n",
        "\n",
        "\n",
        "*   **Divisão dos Dados**: Divide os dados em conjuntos de treinamento e teste\n",
        "\n",
        "*   **Treinamento e Previsão**: Treina um classificador MLPClassifier e faz previsões sobre os dados de teste.\n",
        "\n",
        "*   **Avaliação**: Avalia o modelo usando métricas como acurácia, relatório de classificação e matriz de confusão\n",
        "\n",
        "*   **Visualização**: Plota a matriz de confusão para uma análise visual do desempenho do modelo.\n",
        "\n",
        "Essas etapas fazem parte de um pipeline de classificação típico em aprendizado de máquina, que inclui a preparação dos dados, treinamento do modelo, avaliação e visualização dos resultados."
      ]
    },
    {
      "cell_type": "code",
      "execution_count": 8,
      "metadata": {
        "colab": {
          "base_uri": "https://localhost:8080/",
          "height": 988
        },
        "id": "Kbcnr_floERS",
        "outputId": "8b8c508a-1dfa-49d9-fe72-e3f0bd30e81a"
      },
      "outputs": [
        {
          "name": "stdout",
          "output_type": "stream",
          "text": [
            "Acurácia: 1.00\n",
            "\n",
            "Relatório de Classificação:\n",
            "              precision    recall  f1-score   support\n",
            "\n",
            "    Classe 1       1.00      1.00      1.00         2\n",
            "\n",
            "    accuracy                           1.00         2\n",
            "   macro avg       1.00      1.00      1.00         2\n",
            "weighted avg       1.00      1.00      1.00         2\n",
            "\n",
            "\n",
            "DataFrame com Mensagens Reais, Previsões e Rótulos:\n",
            "                                 Message        Processed_Message  Label  \\\n",
            "1              Deep learning is amazing.          deep learn amaz      1   \n",
            "4  Machine learning models are powerful.  machin nois momel power      1   \n",
            "\n",
            "   Predicted_Label                      Predicted_Message  \n",
            "1                1              Deep learning is amazing.  \n",
            "4                1  Machine learning models are powerful.  \n"
          ]
        },
        {
          "name": "stderr",
          "output_type": "stream",
          "text": [
            "/home/cordeiro/my-projects/machine_learning_ufv/venv/lib/python3.12/site-packages/sklearn/neural_network/_multilayer_perceptron.py:690: ConvergenceWarning: Stochastic Optimizer: Maximum iterations (500) reached and the optimization hasn't converged yet.\n",
            "  warnings.warn(\n",
            "/home/cordeiro/my-projects/machine_learning_ufv/venv/lib/python3.12/site-packages/sklearn/metrics/_classification.py:409: UserWarning: A single label was found in 'y_true' and 'y_pred'. For the confusion matrix to have the correct shape, use the 'labels' parameter to pass all known labels.\n",
            "  warnings.warn(\n"
          ]
        },
        {
          "data": {
            "image/png": "[encoded data removed]",
            "text/plain": [
              "<Figure size 1000x700 with 2 Axes>"
            ]
          },
          "metadata": {},
          "output_type": "display_data"
        }
      ],
      "source": [
        "# Importando bibliotecas necessárias\n",
        "from sklearn.model_selection import train_test_split\n",
        "from sklearn.neural_network import MLPClassifier\n",
        "from sklearn.metrics import classification_report, confusion_matrix, accuracy_score\n",
        "import seaborn as sns\n",
        "import matplotlib.pyplot as plt\n",
        "import numpy as np\n",
        "import pandas as pd\n",
        "\n",
        "# Dividindo os dados em conjuntos de treinamento e teste\n",
        "X_train, X_test, y_train, y_test, indices_train, indices_test = train_test_split(\n",
        "    X, y, df.index, test_size=0.3, random_state=42\n",
        ")\n",
        "\n",
        "# Treinando o modelo MLP\n",
        "model = MLPClassifier(hidden_layer_sizes=(10,), max_iter=500, random_state=42)\n",
        "model.fit(X_train, y_train)\n",
        "\n",
        "# Fazendo previsões\n",
        "y_pred = model.predict(X_test)\n",
        "\n",
        "# Avaliação do modelo\n",
        "accuracy = accuracy_score(y_test, y_pred)\n",
        "print(f\"Acurácia: {accuracy:.2f}\")\n",
        "\n",
        "# Identificar as classes presentes no conjunto de teste\n",
        "classes_present = np.unique(y_test)\n",
        "\n",
        "# Relatório de Classificação e Matriz de Confusão\n",
        "report = classification_report(y_test, y_pred, target_names=[f'Classe {c}' for c in classes_present], labels=classes_present)\n",
        "conf_matrix = confusion_matrix(y_test, y_pred, labels=classes_present)\n",
        "\n",
        "# Exibindo o relatório de classificação\n",
        "print(\"\\nRelatório de Classificação:\")\n",
        "print(report)\n",
        "\n",
        "# Criar um DataFrame para o conjunto de teste\n",
        "df_test = df.loc[indices_test].copy()\n",
        "df_test['Predicted_Label'] = y_pred\n",
        "df_test['Predicted_Message'] = df_test['Message']  # Adicionar coluna com o texto original\n",
        "\n",
        "# Exibindo o DataFrame com mensagens reais, preditas e rótulos\n",
        "print(\"\\nDataFrame com Mensagens Reais, Previsões e Rótulos:\")\n",
        "print(df_test[['Message', 'Processed_Message', 'Label', 'Predicted_Label', 'Predicted_Message']])\n",
        "\n",
        "# Visualização da Matriz de Confusão\n",
        "plt.figure(figsize=(10, 7))\n",
        "sns.heatmap(conf_matrix, annot=True, fmt='d', cmap='Blues', xticklabels=[f'Classe {c}' for c in classes_present], yticklabels=[f'Classe {c}' for c in classes_present])\n",
        "plt.xlabel('Predito')\n",
        "plt.ylabel('Real')\n",
        "plt.title('Matriz de Confusão')\n",
        "plt.show()"
      ]
    },
    {
      "cell_type": "code",
      "execution_count": 9,
      "metadata": {
        "colab": {
          "base_uri": "https://localhost:8080/"
        },
        "id": "yCBuh4rExx7_",
        "outputId": "bb5afa43-b3b3-4ff0-9648-46f5dcac21e9"
      },
      "outputs": [
        {
          "name": "stderr",
          "output_type": "stream",
          "text": [
            "2025-09-26 18:43:56.945227: I tensorflow/core/util/port.cc:153] oneDNN custom operations are on. You may see slightly different numerical results due to floating-point round-off errors from different computation orders. To turn them off, set the environment variable `TF_ENABLE_ONEDNN_OPTS=0`.\n",
            "2025-09-26 18:43:56.952357: I external/local_xla/xla/tsl/cuda/cudart_stub.cc:32] Could not find cuda drivers on your machine, GPU will not be used.\n",
            "2025-09-26 18:43:57.007441: I external/local_xla/xla/tsl/cuda/cudart_stub.cc:32] Could not find cuda drivers on your machine, GPU will not be used.\n",
            "2025-09-26 18:43:57.058820: E external/local_xla/xla/stream_executor/cuda/cuda_fft.cc:467] Unable to register cuFFT factory: Attempting to register factory for plugin cuFFT when one has already been registered\n",
            "WARNING: All log messages before absl::InitializeLog() is called are written to STDERR\n",
            "E0000 00:00:1758923037.108560    7323 cuda_dnn.cc:8579] Unable to register cuDNN factory: Attempting to register factory for plugin cuDNN when one has already been registered\n",
            "E0000 00:00:1758923037.122361    7323 cuda_blas.cc:1407] Unable to register cuBLAS factory: Attempting to register factory for plugin cuBLAS when one has already been registered\n",
            "W0000 00:00:1758923037.209496    7323 computation_placer.cc:177] computation placer already registered. Please check linkage and avoid linking the same target more than once.\n",
            "W0000 00:00:1758923037.209511    7323 computation_placer.cc:177] computation placer already registered. Please check linkage and avoid linking the same target more than once.\n",
            "W0000 00:00:1758923037.209511    7323 computation_placer.cc:177] computation placer already registered. Please check linkage and avoid linking the same target more than once.\n",
            "W0000 00:00:1758923037.209512    7323 computation_placer.cc:177] computation placer already registered. Please check linkage and avoid linking the same target more than once.\n",
            "2025-09-26 18:43:57.220224: I tensorflow/core/platform/cpu_feature_guard.cc:210] This TensorFlow binary is optimized to use available CPU instructions in performance-critical operations.\n",
            "To enable the following instructions: AVX2 AVX_VNNI FMA, in other operations, rebuild TensorFlow with the appropriate compiler flags.\n"
          ]
        },
        {
          "name": "stdout",
          "output_type": "stream",
          "text": [
            "Original Sequences:\n",
            "[[1, 2, 3, 5, 4], [1, 4, 2, 3, 6, 4], [7, 1, 2, 3, 8, 9], [2, 1, 3, 5, 4]]\n",
            "\n",
            "Padded/Truncated Sequences:\n",
            "[[1 2 3 5 4 0 0 0 0 0]\n",
            " [1 4 2 3 6 4 0 0 0 0]\n",
            " [7 1 2 3 8 9 0 0 0 0]\n",
            " [2 1 3 5 4 0 0 0 0 0]]\n"
          ]
        }
      ],
      "source": [
        "##############################################################################################################################################################################\n",
        "#BONUS:\n",
        "\n",
        "#Preenchimento e Truncamento\n",
        "from tensorflow.keras.preprocessing.text import Tokenizer\n",
        "from tensorflow.keras.preprocessing.sequence import pad_sequences\n",
        "\n",
        "# Sample texts\n",
        "texts = [\n",
        "    \"This is the first document.\",\n",
        "    \"This document is the second document.\",\n",
        "    \"And this is the third one.\",\n",
        "    \"Is this the first document?\",\n",
        "]\n",
        "\n",
        "# Create a tokenizer\n",
        "tokenizer = Tokenizer()\n",
        "tokenizer.fit_on_texts(texts)\n",
        "\n",
        "# Convert texts to sequences\n",
        "sequences = tokenizer.texts_to_sequences(texts)\n",
        "\n",
        "# Define a maximum sequence length\n",
        "max_length = 10\n",
        "\n",
        "# Perform padding or truncation\n",
        "padded_sequences = pad_sequences(sequences, maxlen=max_length, padding='post', truncating='post')\n",
        "\n",
        "# Display the results\n",
        "print(\"Original Sequences:\")\n",
        "print(sequences)\n",
        "print(\"\\nPadded/Truncated Sequences:\")\n",
        "print(padded_sequences)"
      ]
    },
    {
      "cell_type": "markdown",
      "metadata": {
        "id": "fiimC14El9PX"
      },
      "source": [
        "**Lemmatização**\n",
        "\n",
        "Aqui estão algumas situações em que a lematização é particularmente útil:\n",
        "\n",
        "*Análise de Texto e Pesquisa:*\n",
        "\n",
        "Consistência: Quando você precisa comparar palavras que têm a mesma base, independentemente da sua forma. Por exemplo, \"running\", \"ran\", e \"runs\" serão reduzidos ao seu lema comum, \"run\", permitindo que eles sejam tratados como a mesma palavra durante a análise.\n",
        "\n",
        "Pesquisas e Relevância: Para melhorar a relevância das buscas, garantindo que todas as variações de uma palavra sejam tratadas de forma consistente. Por exemplo, em um sistema de busca, a lematização ajuda a encontrar documentos que contenham variações de uma palavra-chave.\n",
        "\n",
        "*Classificação de Texto:*\n",
        "\n",
        "Redução da Dimensionalidade: Na construção de modelos de aprendizado de máquina, a lematização ajuda a reduzir a dimensionalidade dos dados de texto ao consolidar diferentes formas de uma palavra em uma única forma básica. Isso pode melhorar a eficiência e o desempenho dos modelos.\n",
        "\n",
        "Precisão do Modelo: Ao usar lemas, você pode melhorar a precisão dos modelos de classificação, pois o modelo se concentra em menos características e menos variações da mesma palavra.\n",
        "\n",
        "*Análise de Sentimentos e Extrair Informações:*\n",
        "\n",
        "Uniformidade: A lematização ajuda a criar uma representação mais uniforme das palavras, o que pode ser crucial para análises de sentimentos e extração de informações. Isso garante que palavras com significados semelhantes sejam tratadas como equivalentes.\n",
        "Pré-processamento de Dados:\n",
        "\n",
        "Preparação de Dados: Antes de aplicar algoritmos de NLP, a lematização é uma etapa fundamental no pré-processamento de dados. Ela normaliza o texto para melhorar a qualidade e a eficácia das análises subsequentes."
      ]
    }
  ],
  "metadata": {
    "colab": {
      "provenance": []
    },
    "kernelspec": {
      "display_name": "venv",
      "language": "python",
      "name": "python3"
    },
    "language_info": {
      "codemirror_mode": {
        "name": "ipython",
        "version": 3
      },
      "file_extension": ".py",
      "mimetype": "text/x-python",
      "name": "python",
      "nbconvert_exporter": "python",
      "pygments_lexer": "ipython3",
      "version": "3.12.3"
    }
  },
  "nbformat": 4,
  "nbformat_minor": 0
}
