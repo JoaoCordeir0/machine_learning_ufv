{
 "cells": [
  {
   "cell_type": "markdown",
   "id": "e36c9988",
   "metadata": {},
   "source": [
    "### Avaliação semana 1\n",
    "\n",
    "Nesse documento contém códigos usados para responder algumas das questões que foram necessárias desenvolver na avaliação da semana 1"
   ]
  },
  {
   "cell_type": "code",
   "execution_count": null,
   "id": "01c67e55",
   "metadata": {},
   "outputs": [],
   "source": [
    "import pandas as pd"
   ]
  },
  {
   "cell_type": "markdown",
   "id": "deaed16e",
   "metadata": {},
   "source": [
    "Assinale todas as alternativas que apresentam o nome das variáveis presentes no dataset:\n",
    "OBS: Marcar uma alternativa incorreta anula o acerto de uma alternativa marcada corretamente.\n",
    "\n",
    "- A. Address\n",
    "- B. Bedroom2\n",
    "- C. Longtitude\n",
    "- D. Distance\n",
    "- E. Number_of_Bathrooms\n",
    "- F. YearSale\n",
    "- G. ocean_proximity\n",
    "- H. Median"
   ]
  },
  {
   "cell_type": "code",
   "execution_count": null,
   "id": "647183a3",
   "metadata": {},
   "outputs": [],
   "source": [
    "df_melb = pd.read_csv('./dataset/melb_data.csv')\n",
    "df_melb.columns"
   ]
  },
  {
   "cell_type": "markdown",
   "id": "109151f4",
   "metadata": {},
   "source": [
    "Quantas amostras estão presentes no dataset?"
   ]
  },
  {
   "cell_type": "code",
   "execution_count": null,
   "id": "8ff0043b",
   "metadata": {},
   "outputs": [],
   "source": [
    "df_melb.shape"
   ]
  },
  {
   "cell_type": "markdown",
   "id": "926037df",
   "metadata": {},
   "source": [
    "Qual das alternativas abaixo apresenta a variável com maior número de dados faltantes ou inválidos?\n",
    "\n",
    "- A. BuildingArea\n",
    "- B. CouncilArea\n",
    "- C. Car\n",
    "- D. Method\n",
    "- E. Regionname"
   ]
  },
  {
   "cell_type": "code",
   "execution_count": null,
   "id": "918867a7",
   "metadata": {},
   "outputs": [],
   "source": [
    "df_melb.describe()"
   ]
  },
  {
   "cell_type": "markdown",
   "id": "49ae6595",
   "metadata": {},
   "source": [
    "Qual das variáveis quantitativas do dataset apresenta maior grau de correlação em relação à variável alvo?\n",
    "- A. LandSize\n",
    "- B. BuildingArea\n",
    "- C. YearBuilt\n",
    "- D. Rooms\n",
    "- E. Bedroom2"
   ]
  },
  {
   "cell_type": "code",
   "execution_count": null,
   "id": "94770ab8",
   "metadata": {},
   "outputs": [],
   "source": [
    "correlation_matrix = df_melb.corr(numeric_only=True)\n",
    "\n",
    "correlation_matrix['Price'].sort_values(ascending=False)"
   ]
  }
 ],
 "metadata": {
  "kernelspec": {
   "display_name": "venv",
   "language": "python",
   "name": "python3"
  },
  "language_info": {
   "codemirror_mode": {
    "name": "ipython",
    "version": 3
   },
   "file_extension": ".py",
   "mimetype": "text/x-python",
   "name": "python",
   "nbconvert_exporter": "python",
   "pygments_lexer": "ipython3",
   "version": "3.12.3"
  }
 },
 "nbformat": 4,
 "nbformat_minor": 5
}
