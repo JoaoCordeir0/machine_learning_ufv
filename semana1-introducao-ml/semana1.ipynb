{
 "cells": [
  {
   "cell_type": "markdown",
   "id": "beffd3ce",
   "metadata": {},
   "source": [
    "# Introdução ao Machine Learning"
   ]
  },
  {
   "cell_type": "code",
   "execution_count": null,
   "id": "84d84ca6",
   "metadata": {},
   "outputs": [],
   "source": [
    "import os # Os para manipular itens do sistema operacional\n",
    "import numpy as np # NumPy para manipular matrizes e vetores\n",
    "import pandas as pd # Pandas para manipular os dataframes\n",
    "\n",
    "# Plotar figuras\n",
    "import matplotlib as mpl \n",
    "import matplotlib.pyplot as plt\n",
    "import seaborn as sns\n",
    "\n",
    "print('Setup completo!')"
   ]
  },
  {
   "cell_type": "markdown",
   "id": "e0c7c6f7",
   "metadata": {},
   "source": [
    "### Etapas de construção de um modelo de ML:\n",
    "\n",
    "- Formulação do problema\n",
    "- Seleção e adaptação do banco de dados\n",
    "- Pré-processamento do banco de dados\n",
    "- Separação do banco de dados em dados de treinamento e validação\n",
    "- Ajuste do modelo com os dados de treinamento\n",
    "- Validação do modelo e estimativa de desempenho com os dados de validação\n",
    "- Implementação do modelo para aplicação"
   ]
  },
  {
   "cell_type": "markdown",
   "id": "7622a7bc",
   "metadata": {},
   "source": [
    "#### 1ª Formulação do problema\n",
    "\n",
    "Estimar o valor médio das casas em um distrito da Califórnia, dado um determinado conjunto de dados e características deste distrito.\n",
    "\n",
    "Fonte: https://www.kaggle.com/camnugent/california-housing-prices\n",
    "\n",
    "Variáveis do banco de dados:\n",
    "\n",
    "- longitude: Longitude\n",
    "- latitude - Latitude\n",
    "- housing_median_age - Idade média das construções no quarteirão\n",
    "- total_rooms - Número de cômodos no quarteirão\n",
    "- total_bedrooms - Número de quartos no quarteirão\n",
    "- population - Número de pessoas que vivem no quarteirão\n",
    "- households - Número de famílias vivendo no mesmo quarteirão\n",
    "- median_income - Renda média mensal do quarteirão em que a casa está situada (medida em dezenas de milhares de dólares)\n",
    "- median_house_value (target) - Valor médio das casas do quarteirão em que a casa está situada (em dólares)\n",
    "- ocean_proximity - Proximidade da casa do oceano/mar"
   ]
  },
  {
   "cell_type": "markdown",
   "id": "848d98a8",
   "metadata": {},
   "source": [
    "#### 2ª Seleção e adaptação do banco de dados"
   ]
  },
  {
   "cell_type": "code",
   "execution_count": null,
   "id": "661fbe79",
   "metadata": {},
   "outputs": [],
   "source": [
    "# baixar o dataset do GitHub\n",
    "!wget https://github.com/nias-ufv/elt574-aprendizado-de-maquina/raw/main/semana-1/housing.csv"
   ]
  },
  {
   "cell_type": "code",
   "execution_count": null,
   "id": "16053ba4",
   "metadata": {},
   "outputs": [],
   "source": [
    "df_housing = pd.read_csv('./dataset/housing.csv')\n",
    "df_housing.head() # 5 primeiras linhas"
   ]
  },
  {
   "cell_type": "code",
   "execution_count": null,
   "id": "1a688f74",
   "metadata": {},
   "outputs": [],
   "source": [
    "df_housing.info() # Tipo das varíaveis"
   ]
  },
  {
   "cell_type": "code",
   "execution_count": null,
   "id": "1320a3db",
   "metadata": {},
   "outputs": [],
   "source": [
    "df_housing['ocean_proximity'].value_counts() # Agrupa pelo ocean_proximity"
   ]
  },
  {
   "cell_type": "code",
   "execution_count": null,
   "id": "fb35827a",
   "metadata": {},
   "outputs": [],
   "source": [
    "df_housing.loc[lambda i: i['ocean_proximity'] == 'ISLAND'] # Filtra por ilhas"
   ]
  },
  {
   "cell_type": "code",
   "execution_count": null,
   "id": "d89ef986",
   "metadata": {},
   "outputs": [],
   "source": [
    "df_housing.describe() # Medidas, tendência e dispersão"
   ]
  },
  {
   "cell_type": "code",
   "execution_count": null,
   "id": "3edabca8",
   "metadata": {},
   "outputs": [],
   "source": [
    "df_housing.hist(bins=50, figsize=(20, 15))\n",
    "plt.show() # Plota os dados de cada coluna"
   ]
  },
  {
   "cell_type": "code",
   "execution_count": null,
   "id": "777f0bfa",
   "metadata": {},
   "outputs": [],
   "source": [
    "sns.histplot(data=df_housing, x='median_house_value', kde=True) # Suavização da coluna median_house_value usando sns"
   ]
  },
  {
   "cell_type": "code",
   "execution_count": null,
   "id": "b207a7fb",
   "metadata": {},
   "outputs": [],
   "source": [
    "df_housing.plot(kind='scatter', x='longitude', y='latitude', alpha=0.1) # Gráfico com as posições geográficas das casas"
   ]
  },
  {
   "cell_type": "code",
   "execution_count": null,
   "id": "793da9a9",
   "metadata": {},
   "outputs": [],
   "source": [
    "# Grafico com as posicoes geograficas das casas e marcadores com 40% da cor e modulados pelo 'population'/100 e coloridos de acordo com o valor das casas\n",
    "df_housing.plot(\n",
    "    kind='scatter', \n",
    "    x='longitude', \n",
    "    y='latitude', \n",
    "    alpha=0.4,\n",
    "    s=df_housing['population']/100, \n",
    "    label='Population', \n",
    "    figsize=(15,10), \n",
    "    c='median_house_value',\n",
    "    cmap=plt.get_cmap('jet'),\n",
    "    colorbar=True\n",
    ")\n",
    "plt.legend()"
   ]
  },
  {
   "cell_type": "code",
   "execution_count": null,
   "id": "ac6c1ef7",
   "metadata": {},
   "outputs": [],
   "source": [
    "# (Extra) Dispersão das amostras com o mapa da California\n",
    "\n",
    "import folium\n",
    "from folium.plugins import MarkerCluster\n",
    "\n",
    "df_aux = df_housing\n",
    "map_cahousing = folium.Map(\n",
    "    location=[\n",
    "        df_aux['latitude'].median(), \n",
    "        df_aux['longitude'].median()\n",
    "    ],\n",
    "    zoom_start=6,\n",
    "    zoom_control=False, \n",
    "    width=800, \n",
    "    height=500\n",
    ")\n",
    "\n",
    "marker_cluster = MarkerCluster().add_to(map_cahousing)\n",
    "\n",
    "for _, location_info in df_aux.loc[0:,:].iterrows(): \n",
    "    folium.Marker(\n",
    "        [\n",
    "            location_info['latitude'], \n",
    "            location_info['longitude']\n",
    "        ],\n",
    "        popup=folium.Popup(\n",
    "            f\"House value: U${location_info['median_house_value']}\",\n",
    "            max_width=500\n",
    "        ),\n",
    "        icon=folium.Icon(\n",
    "            prefix='fa',\n",
    "            icon='fa-house'\n",
    "        ),\n",
    "        overlay=True\n",
    "    ).add_to(marker_cluster)\n",
    "\n",
    "map_cahousing"
   ]
  },
  {
   "cell_type": "code",
   "execution_count": null,
   "id": "578b60d2",
   "metadata": {},
   "outputs": [],
   "source": [
    "corr_matrix = df_housing.corr(numeric_only=True)\n",
    "corr_matrix # Matriz de correlação"
   ]
  },
  {
   "cell_type": "code",
   "execution_count": null,
   "id": "0aef37a2",
   "metadata": {},
   "outputs": [],
   "source": [
    "corr_matrix['median_house_value'].sort_values(ascending=False) # Correlação das entradas com a saída desejada"
   ]
  },
  {
   "cell_type": "code",
   "execution_count": null,
   "id": "8d21a622",
   "metadata": {},
   "outputs": [],
   "source": [
    "from pandas.plotting import scatter_matrix\n",
    "\n",
    "attributes = ['median_house_value', 'median_income', 'total_rooms', 'housing_median_age']\n",
    "scatter_matrix(df_housing[attributes],figsize=(20,15))"
   ]
  },
  {
   "cell_type": "code",
   "execution_count": null,
   "id": "9c09c5af",
   "metadata": {},
   "outputs": [],
   "source": [
    "df_housing.plot(kind='scatter', x='median_income', y='median_house_value', alpha=0.1, figsize=(20,15))"
   ]
  },
  {
   "cell_type": "code",
   "execution_count": null,
   "id": "22e258a3",
   "metadata": {},
   "outputs": [],
   "source": [
    "# Transformando variaveis categoricas\n",
    "df_housing_cat = df_housing[['ocean_proximity']] # Repassa o vetor com os indices\n",
    "df_housing_cat.value_counts()"
   ]
  },
  {
   "cell_type": "code",
   "execution_count": null,
   "id": "534d731e",
   "metadata": {},
   "outputs": [],
   "source": [
    "from sklearn.preprocessing import OrdinalEncoder\n",
    "ordinal_encoder = OrdinalEncoder()\n",
    "df_housing_cat_encoded = ordinal_encoder.fit_transform(df_housing_cat)\n",
    "df_housing_cat_encoded"
   ]
  },
  {
   "cell_type": "code",
   "execution_count": null,
   "id": "ab554502",
   "metadata": {},
   "outputs": [],
   "source": [
    "ordinal_encoder.categories_"
   ]
  },
  {
   "cell_type": "code",
   "execution_count": null,
   "id": "fc91af1b",
   "metadata": {},
   "outputs": [],
   "source": [
    "from sklearn.preprocessing import OneHotEncoder\n",
    "cat_encoder = OneHotEncoder()\n",
    "df_housing_cat_1hot = cat_encoder.fit_transform(df_housing_cat)\n",
    "df_housing_cat_1hot"
   ]
  },
  {
   "cell_type": "code",
   "execution_count": null,
   "id": "b5d0b0c7",
   "metadata": {},
   "outputs": [],
   "source": [
    "df_housing_cat_1hot.toarray()"
   ]
  },
  {
   "cell_type": "code",
   "execution_count": null,
   "id": "ab7b893f",
   "metadata": {},
   "outputs": [],
   "source": [
    "df_housing.describe() # Identificando variaveis com dados ausentes ou invalidos"
   ]
  },
  {
   "cell_type": "code",
   "execution_count": null,
   "id": "87f51219",
   "metadata": {},
   "outputs": [],
   "source": [
    "# Tres formas de fazer o tratamento\n",
    "df_housing_cleaning = df_housing \n",
    "\n",
    "# 1- Retira as linhas com dados invalidos\n",
    "# df_housing_cleaning.dropna(subset=['total_bedrooms'])\n",
    "\n",
    "# 2- Descarta a coluna 'total_bedrooms'\n",
    "# df_housing_cleaning.drop('total_bedrooms', axis=1)\n",
    "\n",
    "# 3- Imputa (insere) dados onde esta faltando\n",
    "median = df_housing['total_bedrooms'].median() # calcula a media dos dados validos\n",
    "df_housing_cleaning['total_bedrooms'].fillna(median, inplace=True) #substitui os valores invalidos pela media do grupo valido"
   ]
  },
  {
   "cell_type": "code",
   "execution_count": null,
   "id": "1379cf13",
   "metadata": {},
   "outputs": [],
   "source": [
    "df_housing.columns"
   ]
  },
  {
   "cell_type": "code",
   "execution_count": null,
   "id": "bb9ff12c",
   "metadata": {},
   "outputs": [],
   "source": [
    "# Criando novas variaveis para analisar o problema\n",
    "df_housing[\"rooms_per_household\"] = df_housing[\"total_rooms\"] / df_housing[\"households\"]\n",
    "df_housing[\"population_per_household\"]= df_housing[\"population\"] / df_housing[\"households\"]\n",
    "\n",
    "corr_matrix = df_housing.corr(numeric_only=True)\n",
    "corr_matrix['median_house_value'].sort_values(ascending=False)"
   ]
  },
  {
   "cell_type": "code",
   "execution_count": null,
   "id": "d090f406",
   "metadata": {},
   "outputs": [],
   "source": [
    "df_housing.plot(kind='scatter', x='rooms_per_household',y='median_house_value', alpha = 0.1)\n",
    "plt.axis([0,5,0,520000])\n",
    "plt.show()"
   ]
  }
 ],
 "metadata": {
  "kernelspec": {
   "display_name": "venv",
   "language": "python",
   "name": "python3"
  },
  "language_info": {
   "codemirror_mode": {
    "name": "ipython",
    "version": 3
   },
   "file_extension": ".py",
   "mimetype": "text/x-python",
   "name": "python",
   "nbconvert_exporter": "python",
   "pygments_lexer": "ipython3",
   "version": "3.12.3"
  }
 },
 "nbformat": 4,
 "nbformat_minor": 5
}
